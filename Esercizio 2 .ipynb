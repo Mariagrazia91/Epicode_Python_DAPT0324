{
 "cells": [
  {
   "cell_type": "code",
   "execution_count": 1,
   "id": "716f8bf0-e2f0-4c23-b2b1-ba23134db205",
   "metadata": {},
   "outputs": [],
   "source": [
    "#INDEXING\n",
    "#SLICING"
   ]
  },
  {
   "cell_type": "code",
   "execution_count": 3,
   "id": "6b3d2055-3d72-4b9e-9c3b-95214111ae55",
   "metadata": {},
   "outputs": [
    {
     "ename": "SyntaxError",
     "evalue": "invalid syntax (4212252364.py, line 1)",
     "output_type": "error",
     "traceback": [
      "\u001b[1;36m  Cell \u001b[1;32mIn[3], line 1\u001b[1;36m\u001b[0m\n\u001b[1;33m    .loc\u001b[0m\n\u001b[1;37m    ^\u001b[0m\n\u001b[1;31mSyntaxError\u001b[0m\u001b[1;31m:\u001b[0m invalid syntax\n"
     ]
    }
   ],
   "source": [
    ".loc\n",
    ".iloc"
   ]
  },
  {
   "cell_type": "code",
   "execution_count": 5,
   "id": "5d2d0eb5-9a6d-4892-babe-54a2e77b4a8c",
   "metadata": {},
   "outputs": [],
   "source": [
    "nome_scuola = \"Epicode\""
   ]
  },
  {
   "cell_type": "code",
   "execution_count": 7,
   "id": "501155f7-1f60-4c59-bec6-b78338cb6626",
   "metadata": {},
   "outputs": [
    {
     "data": {
      "text/plain": [
       "'i'"
      ]
     },
     "execution_count": 7,
     "metadata": {},
     "output_type": "execute_result"
    }
   ],
   "source": [
    "nome_scuola[2]"
   ]
  },
  {
   "cell_type": "code",
   "execution_count": 20,
   "id": "6661863c-c9ea-4321-84ee-d51001e55ddd",
   "metadata": {},
   "outputs": [
    {
     "name": "stdout",
     "output_type": "stream",
     "text": [
      "E\n",
      "p\n",
      "i\n",
      "c\n",
      "o\n",
      "d\n",
      "e\n",
      "Epicode\n"
     ]
    }
   ],
   "source": [
    "posizione = 0\n",
    "while posizione < len(nome_scuola):\n",
    "    print (nome_scuola[posizione])\n",
    "    posizione += 1\n",
    "print (nome_scuola)"
   ]
  },
  {
   "cell_type": "code",
   "execution_count": 22,
   "id": "f8eed69f-5bb3-4bc6-8f87-300964143bc8",
   "metadata": {},
   "outputs": [
    {
     "name": "stdout",
     "output_type": "stream",
     "text": [
      "0\n",
      "1\n",
      "2\n",
      "3\n",
      "4\n",
      "5\n",
      "6\n",
      "7\n",
      "8\n",
      "9\n",
      "10\n",
      "11\n",
      "12\n",
      "13\n",
      "14\n",
      "15\n",
      "16\n",
      "17\n",
      "18\n",
      "19\n",
      "20\n"
     ]
    }
   ],
   "source": [
    "x=0\n",
    "while x <= 20:\n",
    " print(x)\n",
    " x+=1"
   ]
  },
  {
   "cell_type": "code",
   "execution_count": 24,
   "id": "a780302e-ae88-4903-9da7-3916b49ce22c",
   "metadata": {},
   "outputs": [
    {
     "name": "stdout",
     "output_type": "stream",
     "text": [
      "1\n",
      "2\n",
      "4\n",
      "8\n",
      "16\n",
      "32\n",
      "64\n",
      "128\n",
      "256\n",
      "512\n",
      "1024\n"
     ]
    }
   ],
   "source": [
    "esponente = 0 \n",
    "while esponente <= 10:\n",
    "    print(2**esponente)\n",
    "    esponente += 1"
   ]
  },
  {
   "cell_type": "code",
   "execution_count": 32,
   "id": "4d14fa48-59ba-4642-a155-170182eb49af",
   "metadata": {},
   "outputs": [
    {
     "name": "stdout",
     "output_type": "stream",
     "text": [
      "2^0 = 1\n",
      "2^1 = 2\n",
      "2^2 = 4\n",
      "2^3 = 8\n",
      "2^4 = 16\n",
      "2^5 = 32\n",
      "2^6 = 64\n",
      "2^7 = 128\n",
      "2^8 = 256\n",
      "2^9 = 512\n",
      "2^10 = 1024\n",
      "2^11 = 2048\n",
      "2^12 = 4096\n",
      "2^13 = 8192\n",
      "2^14 = 16384\n"
     ]
    }
   ],
   "source": [
    "base = 2\n",
    "potenza = 0\n",
    "condizione = 25000\n",
    "\n",
    "calcolo = base ** potenza \n",
    "while calcolo < condizione:\n",
    "    print(f\"2^{potenza} = {calcolo}\")\n",
    "    potenza+=1 # agg\n",
    "    calcolo = base ** potenza\n",
    "    "
   ]
  },
  {
   "cell_type": "code",
   "execution_count": 34,
   "id": "f54b7704-6f1b-430b-b6e0-d85d40c3859d",
   "metadata": {},
   "outputs": [
    {
     "name": "stdout",
     "output_type": "stream",
     "text": [
      "['Cybersecurity', 'Data Analyst', 'Backend', 'Frontend', 'Data Analyst', 'Backend', 'Frontend', 'Cybersecurity']\n"
     ]
    }
   ],
   "source": [
    "studenti = [\"Alex\", \"Bob\", \"Cindy\", \"Dan\", \"Emma\", \"Faith\", \"Grace\", \"Henry\"] \n",
    "corsi = [\"Cybersecurity\", \"Data Analyst\", \"Backend\", \"Frontend\", \"Data Analyst\", \"Backend\"]\n",
    "corsi.append(\"Frontend\")\n",
    "corsi.append(\"Cybersecurity\")\n",
    "#print(corsi)\n",
    "if len(studenti) == len(corsi):\n",
    "    print(corsi)"
   ]
  },
  {
   "cell_type": "code",
   "execution_count": 36,
   "id": "311e95ef-6578-44cd-a222-fe84312b4fae",
   "metadata": {},
   "outputs": [
    {
     "name": "stdin",
     "output_type": "stream",
     "text": [
      "inserisci una parola di massimo 6 caratteri Epicode\n"
     ]
    },
    {
     "name": "stdout",
     "output_type": "stream",
     "text": [
      "Epi...ode\n"
     ]
    }
   ],
   "source": [
    "parola = input(\"inserisci una parola di massimo 6 caratteri\")\n",
    "n = len(parola)\n",
    "if n == 1:\n",
    "    print(parola)\n",
    "elif n == 2 or n == 3:\n",
    "    print(parola[:1]+'.'+parola[-1:])\n",
    "elif n == 4 or n == 5:\n",
    "    print(parola[:2]+'..'+parola[-2:])\n",
    "else:\n",
    "    print(parola[:3]+'...'+parola[-3:])"
   ]
  },
  {
   "cell_type": "code",
   "execution_count": 40,
   "id": "d97605ff-ea3b-4d19-ab69-dd596e2b00bb",
   "metadata": {},
   "outputs": [
    {
     "name": "stdin",
     "output_type": "stream",
     "text": [
      "Inserisci una stringa:  Epicode\n"
     ]
    },
    {
     "name": "stdout",
     "output_type": "stream",
     "text": [
      "Epi...Epic\n"
     ]
    }
   ],
   "source": [
    "stringa_utente = input(\"Inserisci una stringa: \")\n",
    "if len(stringa_utente) < 6: \n",
    "  print(stringa_utente)\n",
    "else:\n",
    "  print(stringa_utente[:3],\"...\",stringa_utente[:-3], sep=\"\" )"
   ]
  },
  {
   "cell_type": "code",
   "execution_count": 42,
   "id": "52a9ce1c-1072-4d57-8461-cc0f2b606b05",
   "metadata": {},
   "outputs": [
    {
     "name": "stdin",
     "output_type": "stream",
     "text": [
      "Inserisci il numero:  150\n"
     ]
    },
    {
     "name": "stdout",
     "output_type": "stream",
     "text": [
      "[2, 3, 5, 5]\n"
     ]
    }
   ],
   "source": [
    "numero = int(input(\"Inserisci il numero: \"))\n",
    "fattori = []\n",
    "divisore = 2\n",
    "\n",
    "while numero > 1:\n",
    "    while numero % divisore == 0:\n",
    "        fattori.append(divisore)\n",
    "        numero //= divisore\n",
    "    divisore += 1\n",
    "\n",
    "print(fattori)"
   ]
  },
  {
   "cell_type": "code",
   "execution_count": 44,
   "id": "4d5182a6-93d5-48a7-a7c6-d270c150d654",
   "metadata": {},
   "outputs": [
    {
     "name": "stdout",
     "output_type": "stream",
     "text": [
      "E\n",
      "p\n",
      "i\n",
      "c\n",
      "o\n",
      "d\n",
      "e\n"
     ]
    }
   ],
   "source": [
    "nome_scuola = \"Epicode\"\n",
    "for lettera in nome_scuola:\n",
    "    print(lettera)"
   ]
  },
  {
   "cell_type": "code",
   "execution_count": 46,
   "id": "26e9038b-f6a5-48a0-afdf-abd49376552e",
   "metadata": {},
   "outputs": [
    {
     "data": {
      "text/plain": [
       "range(0, 10)"
      ]
     },
     "execution_count": 46,
     "metadata": {},
     "output_type": "execute_result"
    }
   ],
   "source": [
    "range(10)"
   ]
  },
  {
   "cell_type": "code",
   "execution_count": 48,
   "id": "50eddf78-9933-45fe-aede-497e9f84eda7",
   "metadata": {},
   "outputs": [
    {
     "data": {
      "text/plain": [
       "[0, 1, 2, 3, 4, 5, 6, 7, 8, 9]"
      ]
     },
     "execution_count": 48,
     "metadata": {},
     "output_type": "execute_result"
    }
   ],
   "source": [
    "list ( range(10) )"
   ]
  },
  {
   "cell_type": "code",
   "execution_count": 50,
   "id": "bbfd3d00-b5e3-4a5c-a5c5-28ba5b70b645",
   "metadata": {},
   "outputs": [
    {
     "name": "stdout",
     "output_type": "stream",
     "text": [
      "0\n",
      "1\n",
      "2\n",
      "3\n",
      "4\n",
      "5\n",
      "6\n",
      "7\n",
      "8\n",
      "9\n"
     ]
    }
   ],
   "source": [
    "for numero in range(10):\n",
    "    print (numero)"
   ]
  },
  {
   "cell_type": "code",
   "execution_count": 52,
   "id": "1769e7aa-2dbd-47f9-84c6-f42bfb4a9171",
   "metadata": {},
   "outputs": [
    {
     "ename": "SyntaxError",
     "evalue": "unterminated string literal (detected at line 3) (2734341851.py, line 3)",
     "output_type": "error",
     "traceback": [
      "\u001b[1;36m  Cell \u001b[1;32mIn[52], line 3\u001b[1;36m\u001b[0m\n\u001b[1;33m    print (\"2^\", esponente,\"=\", risultato, sep\")\u001b[0m\n\u001b[1;37m                                              ^\u001b[0m\n\u001b[1;31mSyntaxError\u001b[0m\u001b[1;31m:\u001b[0m unterminated string literal (detected at line 3)\n"
     ]
    }
   ],
   "source": [
    "for esponente in range(10):\n",
    "    risultato = 2** esponente\n",
    "    print (\"2^\", esponente,\"=\", risultato, sep\")"
   ]
  },
  {
   "cell_type": "code",
   "execution_count": 1,
   "id": "4febdeea-9dc5-44c2-b761-b509a50ba187",
   "metadata": {},
   "outputs": [
    {
     "name": "stdout",
     "output_type": "stream",
     "text": [
      "Punto\n",
      "Golf\n",
      "107\n"
     ]
    }
   ],
   "source": [
    "dizionario_auto = {\"Ada\": \"Punto\", \"Ben\": \"Multipla\",\"Charlie\": \"Golf\", \"Debbie\": \"107\"}\n",
    "\n",
    "for auto in dizionario_auto.values():\n",
    "  if auto != \"Multipla\":\n",
    "    print(auto)"
   ]
  },
  {
   "cell_type": "code",
   "execution_count": 3,
   "id": "db711a7a-4e1f-4374-a866-befd9f1ee05c",
   "metadata": {},
   "outputs": [
    {
     "name": "stdout",
     "output_type": "stream",
     "text": [
      "{'Ada': 'Punto', 'Ben': 'Polo', 'Charlie': 'Golf', 'Debbie': '107', 'Emily': 'A1', 'Fred': 'Octavia', 'Grace': 'Yaris', 'Hugh': 'Clio'}\n"
     ]
    }
   ],
   "source": [
    "dizionario_auto = {\"Ada\": \"Punto\", \"Ben\": \"Multipla\", \"Charlie\": \"Golf\", \"Debbie\": \"107\", \"Emily\": \"A1\"}\n",
    "nuovi_proprietari = {\"Ben\": \"Polo\", \"Fred\": \"Octavia\", \"Grace\": \"Yaris\", \"Hugh\": \"Clio\"}\n",
    "dizionario_auto.update(nuovi_proprietari) \n",
    "print(dizionario_auto)\n",
    "#ben viene sovrascritto con la nuova auto: polo"
   ]
  },
  {
   "cell_type": "code",
   "execution_count": 5,
   "id": "a1f6a475-514c-48d5-b691-c512b90c7a89",
   "metadata": {},
   "outputs": [
    {
     "name": "stdout",
     "output_type": "stream",
     "text": [
      "1\n",
      "9\n"
     ]
    }
   ],
   "source": [
    "lista_numero = [1,2,3,4,5,6,7,8,9]\n",
    "print (min(lista_numero))\n",
    "print (max(lista_numero))"
   ]
  },
  {
   "cell_type": "code",
   "execution_count": 7,
   "id": "a5425e60-540d-4f30-80cb-b03b8d587214",
   "metadata": {},
   "outputs": [
    {
     "name": "stdout",
     "output_type": "stream",
     "text": [
      "il minimo è: 11\n",
      "il massimo è: 90\n"
     ]
    }
   ],
   "source": [
    "numeri = [34, 78, 12, 56, 23, 89, 45, 67, 11, 90, 44, 23]\n",
    "minimo = min(numeri)\n",
    "massimo = max(numeri)\n",
    "minimo_stampato = False\n",
    "massimo_stampato = False\n",
    "\n",
    "for n in numeri:\n",
    "    if n == minimo and not minimo_stampato:\n",
    "        print('il minimo è:',n)\n",
    "        minimo_stampato = True\n",
    "    if n == massimo and not massimo_stampato:\n",
    "        print('il massimo è:',n)\n",
    "        massimo_stampato = False"
   ]
  },
  {
   "cell_type": "code",
   "execution_count": 9,
   "id": "33c5b8a1-193d-4d4f-b37f-99ec8af7efae",
   "metadata": {},
   "outputs": [
    {
     "name": "stdout",
     "output_type": "stream",
     "text": [
      "i 3 numeri più grandi sono: [78, 89, 90]\n"
     ]
    }
   ],
   "source": [
    "numeri = [34, 78, 12, 56, 23, 78, 89, 45, 67, 11, 90, 44, 23]\n",
    "numeri_unici = list(set(numeri))\n",
    "numeri_unici.sort()\n",
    "print('i 3 numeri più grandi sono:',numeri_unici[-3:])"
   ]
  },
  {
   "cell_type": "code",
   "execution_count": 13,
   "id": "92fba21a-cb9b-4839-8d64-8525bcdb2cd2",
   "metadata": {},
   "outputs": [
    {
     "name": "stdout",
     "output_type": "stream",
     "text": [
      "[78, 89, 90]\n"
     ]
    }
   ],
   "source": [
    "numeri.sort()\n",
    "print(numeri[-3:])"
   ]
  },
  {
   "cell_type": "code",
   "execution_count": 15,
   "id": "55795c5f-28cb-4abb-9d9c-323bec8720f5",
   "metadata": {},
   "outputs": [
    {
     "name": "stdin",
     "output_type": "stream",
     "text": [
      "Quanti numeri vuoi inserire nella lista? 5\n",
      "inserisci un numero 10\n",
      "inserisci un numero 20\n",
      "inserisci un numero 30\n",
      "inserisci un numero 40\n",
      "inserisci un numero 50\n",
      "inserisci un numero K 30\n"
     ]
    },
    {
     "name": "stdout",
     "output_type": "stream",
     "text": [
      "40.0\n"
     ]
    }
   ],
   "source": [
    "n = int(input(\"Quanti numeri vuoi inserire nella lista?\"))\n",
    "\n",
    "lista = []\n",
    "for i in range(n):\n",
    "    lista.append(int(input(\"inserisci un numero\")))\n",
    "    \n",
    "K = int(input(\"inserisci un numero K\"))\n",
    "numeri_maggiori_uguali = []\n",
    "for num in lista:\n",
    "    n = int(num)\n",
    "    if n >= K:\n",
    "        numeri_maggiori_uguali.append(n)\n",
    "\n",
    "if len(numeri_maggiori_uguali) == 0:\n",
    "    print('non ci sono numeri maggiori o uguali a K')\n",
    "else:\n",
    "    print(sum(numeri_maggiori_uguali)/len(numeri_maggiori_uguali))"
   ]
  },
  {
   "cell_type": "code",
   "execution_count": 19,
   "id": "32bf8cfd-3fae-4753-81c5-da47ec58f861",
   "metadata": {},
   "outputs": [
    {
     "name": "stdin",
     "output_type": "stream",
     "text": [
      "Quanto grande vuoi fare la lista? 5\n",
      "inserisci il numero per la lista 10\n",
      "inserisci il numero per la lista 20\n",
      "inserisci il numero per la lista 30\n",
      "inserisci il numero per la lista 40\n",
      "inserisci il numero per la lista 50\n",
      "Inserisci il numero K 30\n"
     ]
    },
    {
     "name": "stdout",
     "output_type": "stream",
     "text": [
      "la media è  40.0\n"
     ]
    }
   ],
   "source": [
    "#creiamo uno ciclo per creare la lista di numeri \n",
    "lista_numeri = []\n",
    "posizione_lista = 0\n",
    "grandezza_lista = int(input(\"Quanto grande vuoi fare la lista?\"))\n",
    "numero_da_inserire = 1\n",
    "while posizione_lista < grandezza_lista:\n",
    "    numero_da_inserire = int(input(\"inserisci il numero per la lista\"))\n",
    "    lista_numeri.append(numero_da_inserire)\n",
    "    posizione_lista +=1\n",
    "numeroK = int(input(\"Inserisci il numero K\")) #chiediamo il numero K\n",
    "lista_maggiori_di_K = []\n",
    "for numero in lista_numeri: #verifichiamo i numeri maggiori di K\n",
    "    if numero >= numeroK:\n",
    "        lista_maggiori_di_K.append(numero)\n",
    "if len(lista_maggiori_di_K) >1:    #se ci sono numeri maggiori di K fai la somma e la media\n",
    "    somma_numeri_superiori_K = sum(lista_maggiori_di_K)\n",
    "    media_numeri_superiori_a_k = somma_numeri_superiori_K / len(lista_maggiori_di_K)\n",
    "    print (\"la media è \",media_numeri_superiori_a_k)\n",
    "else: #altrimenti no\n",
    "    print (\"I numeri della lista sono inferiori a K\")"
   ]
  },
  {
   "cell_type": "code",
   "execution_count": 21,
   "id": "655e3915-f2ea-4157-8062-6a8f42993b59",
   "metadata": {},
   "outputs": [
    {
     "name": "stdout",
     "output_type": "stream",
     "text": [
      "*****\n",
      "**\n",
      "***\n",
      "****\n"
     ]
    }
   ],
   "source": [
    "numeri = [5, 2, 3, 4]\n",
    "\n",
    "\n",
    "for numero in numeri:\n",
    "    print('*' * numero)"
   ]
  },
  {
   "cell_type": "code",
   "execution_count": 27,
   "id": "65f188f5-7d99-49da-b622-69b6fc2dde21",
   "metadata": {},
   "outputs": [
    {
     "name": "stdout",
     "output_type": "stream",
     "text": [
      "ABCDEF95G01A123B\n",
      "ABCDEF\n",
      "STUVWX95Z04A654E\n",
      "STUVWX\n",
      "DEFGHI95J06A987G\n",
      "DEFGHI\n"
     ]
    }
   ],
   "source": [
    "lista_cf = [\"ABCDEF95G01A123B\", \"GHIJKL91M02A321C\", \"MNOPQR89S03A456D\", \"STUVWX95Z04A654E\", \"XYZABC01D05A789F\", \"DEFGHI95J06A987G\"]  \n",
    "\n",
    "lista_95 =[]\n",
    "for codice in lista_cf:\n",
    "    if '95' in codice:\n",
    "        print(codice)\n",
    "        print(codice[0:6])"
   ]
  },
  {
   "cell_type": "code",
   "execution_count": 41,
   "id": "16407b98-b836-42da-b364-28a654644e9b",
   "metadata": {},
   "outputs": [
    {
     "name": "stdout",
     "output_type": "stream",
     "text": [
      "Alex\n",
      "Faith\n"
     ]
    }
   ],
   "source": [
    "studenti = [\"Alex\", \"Bob\", \"Cindy\", \"Dan\", \"Emma\", \"Faith\", \"Grace\", \"Henry\"]\n",
    "corsi = [\"Cybersecurity\", \"Data Analyst\", \"Backend\", \"Frontend\", \"Data Analyst\", \"Backend\", \"Frontend\", \"Cybersecurity\"]\n",
    "edizioni = [1, 2, 3, 2, 2, 1, 3, 3]\n",
    "indice = 0\n",
    "for edizione in edizioni:\n",
    "    if edizione == 1:\n",
    "        print(studenti[indice])\n",
    "    indice += 1"
   ]
  },
  {
   "cell_type": "code",
   "execution_count": 77,
   "id": "1b8552f4-2486-43b8-a361-2288132e3db3",
   "metadata": {},
   "outputs": [
    {
     "ename": "IndentationError",
     "evalue": "expected an indented block after 'for' statement on line 4 (2626962949.py, line 5)",
     "output_type": "error",
     "traceback": [
      "\u001b[1;36m  Cell \u001b[1;32mIn[77], line 5\u001b[1;36m\u001b[0m\n\u001b[1;33m    if dizionario_studenti_edizioni[studenti] == 1:\u001b[0m\n\u001b[1;37m    ^\u001b[0m\n\u001b[1;31mIndentationError\u001b[0m\u001b[1;31m:\u001b[0m expected an indented block after 'for' statement on line 4\n"
     ]
    }
   ],
   "source": [
    "studenti = [\"Alex\", \"Bob\", \"Cindy\", \"Dan\", \"Emma\", \"Faith\", \"Grace\", \"Henry\"]\n",
    "edizioni = [1, 2, 3, 2, 2, 1, 3, 3]\n",
    "dizionario_studenti_edizioni = dict(zip(studenti, edizioni))\n",
    "for studente in dizionario_studenti_edizioni:\n",
    "if dizionario_studenti_edizioni[studenti] == 1:\n",
    "    print(studenti)"
   ]
  },
  {
   "cell_type": "code",
   "execution_count": 45,
   "id": "2234bdd0-f085-447f-8c9b-2acdb4fc5463",
   "metadata": {},
   "outputs": [
    {
     "data": {
      "text/plain": [
       "['100 $', '200 $', '500 $', '10 $', '50 $', '70 $']"
      ]
     },
     "execution_count": 45,
     "metadata": {},
     "output_type": "execute_result"
    }
   ],
   "source": [
    "prezzi = [\"100 €\", \"200 €\", \"500 €\", \"10 €\", \"50 €\", \"70 €\"] \n",
    "prezzi_americani = []\n",
    "\n",
    "for prezzo in prezzi:\n",
    "    prezzo_americano = prezzo.replace('€','$')\n",
    "    prezzi_americani.append(prezzo_americano)\n",
    "\n",
    "prezzi_americani"
   ]
  },
  {
   "cell_type": "code",
   "execution_count": 71,
   "id": "65e7f49d-6f83-49d1-9f6e-4ed0d5d5ab13",
   "metadata": {},
   "outputs": [
    {
     "name": "stdout",
     "output_type": "stream",
     "text": [
      "100 $\n",
      "200 $\n",
      "500 $\n",
      "10 $\n",
      "50 $\n",
      "70 $\n"
     ]
    }
   ],
   "source": [
    "prezzi = [\"100 €\", \"200 €\", \"500 €\", \"10 €\", \"50 €\", \"70 €\"]\n",
    "prezzi_corretti = []\n",
    "for prezzo in prezzi:\n",
    "    if '€' in prezzo:\n",
    "        print(prezzo.replace('€','$'))\n",
    "        prezzi_corretti.append((prezzo.replace('€','$')))\n",
    "        prezzi_corretti"
   ]
  },
  {
   "cell_type": "code",
   "execution_count": 53,
   "id": "7762c790-0eaa-4448-941c-23aeda0577fa",
   "metadata": {},
   "outputs": [
    {
     "name": "stdout",
     "output_type": "stream",
     "text": [
      "['100$', '200$', '500$', '10$', '50$', '70$']\n"
     ]
    }
   ],
   "source": [
    "prezzi = [\"100 €\", \"200 €\", \"500 €\", \"10 €\", \"50 €\", \"70 €\"]\n",
    "\n",
    "prezzi_dollari = []\n",
    "\n",
    "for prezzo in prezzi:\n",
    "  prezzo_dollaro = prezzo.replace(\" €\", \"$\")\n",
    "  prezzi_dollari.append(prezzo_dollaro)\n",
    "\n",
    "print(prezzi_dollari)"
   ]
  },
  {
   "cell_type": "code",
   "execution_count": 69,
   "id": "197e5506-3fb5-4a70-98f4-86fd845da2fe",
   "metadata": {},
   "outputs": [
    {
     "name": "stdout",
     "output_type": "stream",
     "text": [
      "['Alex']\n",
      "['Bob']\n",
      "['Alex', 'Cindy']\n",
      "['Bob', 'Dan']\n",
      "['Alex', 'Cindy', 'Emma']\n",
      "['Bob', 'Dan', 'Faith']\n",
      "['Alex', 'Cindy', 'Emma', 'Grace']\n",
      "['Bob', 'Dan', 'Faith', 'Henry']\n",
      "['Alex', 'Cindy', 'Emma', 'Grace', 'Isabelle']\n",
      "['Bob', 'Dan', 'Faith', 'Henry', 'John']\n"
     ]
    }
   ],
   "source": [
    "studenti = [\"Alex\", \"Bob\", \"Cindy\", \"Dan\", \"Emma\", \"Faith\", \"Grace\", \"Henry\", \"Isabelle\", \"John\"] \n",
    "studenti_pari = []\n",
    "studenti_dispari = []\n",
    "\n",
    "for i in range(len(studenti)):\n",
    "     if i % 2 == 0:\n",
    "         studenti_pari.append(studenti[i])\n",
    "     else:\n",
    "         studenti_dispari.append(studenti[i])\n",
    "         print(studenti_pari)\n",
    "         print(studenti_dispari)"
   ]
  },
  {
   "cell_type": "code",
   "execution_count": 79,
   "id": "01e56ecb-90d3-44b5-97f8-77863c9148a5",
   "metadata": {},
   "outputs": [
    {
     "name": "stdout",
     "output_type": "stream",
     "text": [
      "Mese 2: 90 € (media prec:100.0 € - il guadagno attuale e' minore)\n",
      "Mese 3: 70 € (media prec:95.0 € - il guadagno attuale e' minore)\n",
      "Mese 4: 40 € (media prec:86.66666666666667 € - il guadagno attuale e' minore)\n",
      "Mese 5: 50 € (media prec:75.0 € - il guadagno attuale e' minore)\n",
      "Mese 6: 80 € (media prec:70.0 € - il guadagno attuale e' maggiore)\n",
      "Mese 7: 90 € (media prec:71.66666666666667 € - il guadagno attuale e' maggiore)\n",
      "Mese 8: 120 € (media prec:74.28571428571429 € - il guadagno attuale e' maggiore)\n",
      "Mese 9: 80 €\n",
      "Mese 10: 20 € (media prec:80.0 € - il guadagno attuale e' minore)\n",
      "Mese 11: 50 € (media prec:74.0 € - il guadagno attuale e' minore)\n",
      "Mese 12: 50 € (media prec:71.81818181818181 € - il guadagno attuale e' minore)\n"
     ]
    }
   ],
   "source": [
    "guadagni = [100, 90, 70, 40, 50, 80, 90, 120, 80, 20, 50, 50]\n",
    "for i in range(len(guadagni)):\n",
    "    mese_corrente = guadagni[i] #mese attuale\n",
    "    if i > 0:\n",
    "        mesi_passati = guadagni[:i] #lista che parte da 0 e arriva all'indice precedente del mese attuale\n",
    "        media_mesi_passati = sum(mesi_passati)/len(mesi_passati) #media della lista dei mesi passati\n",
    "        if mese_corrente > media_mesi_passati:\n",
    "            print(\"Mese \" + str(i+1) + \": \" + str(mese_corrente) + \" € (media prec:\" + str(media_mesi_passati) + \" € - il guadagno attuale e' maggiore)\")\n",
    "        elif mese_corrente < media_mesi_passati:\n",
    "            print(\"Mese \" + str(i+1) + \": \" + str(mese_corrente) + \" € (media prec:\" + str(media_mesi_passati) + \" € - il guadagno attuale e' minore)\")\n",
    "        else:\n",
    "            print(\"Mese \" + str(i+1) + \": \" + str(mese_corrente) + \" €\")"
   ]
  },
  {
   "cell_type": "code",
   "execution_count": 81,
   "id": "80e7e337-179e-4e13-a156-f01236d2c833",
   "metadata": {},
   "outputs": [],
   "source": [
    "import numpy as np"
   ]
  },
  {
   "cell_type": "code",
   "execution_count": 85,
   "id": "584a2bc9-4357-4e49-aeeb-3e296739bec4",
   "metadata": {},
   "outputs": [
    {
     "data": {
      "text/plain": [
       "4"
      ]
     },
     "execution_count": 85,
     "metadata": {},
     "output_type": "execute_result"
    }
   ],
   "source": [
    "np.random.randint(10)"
   ]
  },
  {
   "cell_type": "code",
   "execution_count": 87,
   "id": "12df902d-b4c3-4216-a3cf-4b3eed2cd342",
   "metadata": {},
   "outputs": [
    {
     "name": "stdout",
     "output_type": "stream",
     "text": [
      "Help on built-in function randint:\n",
      "\n",
      "randint(...) method of numpy.random.mtrand.RandomState instance\n",
      "    randint(low, high=None, size=None, dtype=int)\n",
      "\n",
      "    Return random integers from `low` (inclusive) to `high` (exclusive).\n",
      "\n",
      "    Return random integers from the \"discrete uniform\" distribution of\n",
      "    the specified dtype in the \"half-open\" interval [`low`, `high`). If\n",
      "    `high` is None (the default), then results are from [0, `low`).\n",
      "\n",
      "    .. note::\n",
      "        New code should use the `~numpy.random.Generator.integers`\n",
      "        method of a `~numpy.random.Generator` instance instead;\n",
      "        please see the :ref:`random-quick-start`.\n",
      "\n",
      "    Parameters\n",
      "    ----------\n",
      "    low : int or array-like of ints\n",
      "        Lowest (signed) integers to be drawn from the distribution (unless\n",
      "        ``high=None``, in which case this parameter is one above the\n",
      "        *highest* such integer).\n",
      "    high : int or array-like of ints, optional\n",
      "        If provided, one above the largest (signed) integer to be drawn\n",
      "        from the distribution (see above for behavior if ``high=None``).\n",
      "        If array-like, must contain integer values\n",
      "    size : int or tuple of ints, optional\n",
      "        Output shape.  If the given shape is, e.g., ``(m, n, k)``, then\n",
      "        ``m * n * k`` samples are drawn.  Default is None, in which case a\n",
      "        single value is returned.\n",
      "    dtype : dtype, optional\n",
      "        Desired dtype of the result. Byteorder must be native.\n",
      "        The default value is int.\n",
      "\n",
      "        .. versionadded:: 1.11.0\n",
      "\n",
      "    Returns\n",
      "    -------\n",
      "    out : int or ndarray of ints\n",
      "        `size`-shaped array of random integers from the appropriate\n",
      "        distribution, or a single such random int if `size` not provided.\n",
      "\n",
      "    See Also\n",
      "    --------\n",
      "    random_integers : similar to `randint`, only for the closed\n",
      "        interval [`low`, `high`], and 1 is the lowest value if `high` is\n",
      "        omitted.\n",
      "    random.Generator.integers: which should be used for new code.\n",
      "\n",
      "    Examples\n",
      "    --------\n",
      "    >>> np.random.randint(2, size=10)\n",
      "    array([1, 0, 0, 0, 1, 1, 0, 0, 1, 0]) # random\n",
      "    >>> np.random.randint(1, size=10)\n",
      "    array([0, 0, 0, 0, 0, 0, 0, 0, 0, 0])\n",
      "\n",
      "    Generate a 2 x 4 array of ints between 0 and 4, inclusive:\n",
      "\n",
      "    >>> np.random.randint(5, size=(2, 4))\n",
      "    array([[4, 0, 2, 1], # random\n",
      "           [3, 2, 2, 0]])\n",
      "\n",
      "    Generate a 1 x 3 array with 3 different upper bounds\n",
      "\n",
      "    >>> np.random.randint(1, [3, 5, 10])\n",
      "    array([2, 2, 9]) # random\n",
      "\n",
      "    Generate a 1 by 3 array with 3 different lower bounds\n",
      "\n",
      "    >>> np.random.randint([1, 5, 7], 10)\n",
      "    array([9, 8, 7]) # random\n",
      "\n",
      "    Generate a 2 by 4 array using broadcasting with dtype of uint8\n",
      "\n",
      "    >>> np.random.randint([1, 3, 5, 7], [[10], [20]], dtype=np.uint8)\n",
      "    array([[ 8,  6,  9,  7], # random\n",
      "           [ 1, 16,  9, 12]], dtype=uint8)\n",
      "\n"
     ]
    }
   ],
   "source": [
    "help( np.random.randint )"
   ]
  },
  {
   "cell_type": "code",
   "execution_count": 91,
   "id": "a1a0ddbc-c207-49a8-a432-b28866ab1aa8",
   "metadata": {},
   "outputs": [
    {
     "data": {
      "text/plain": [
       "array([95, 80, 98, 83, 60, 61, 87, 85, 99, 56, 68, 64, 51, 51, 84, 87, 66,\n",
       "       96, 93, 54, 68, 57, 94, 81, 66])"
      ]
     },
     "execution_count": 91,
     "metadata": {},
     "output_type": "execute_result"
    }
   ],
   "source": [
    "np.random.randint(50, 100, size=25)"
   ]
  },
  {
   "cell_type": "code",
   "execution_count": 5,
   "id": "a6a551b6-4bfa-41c8-a663-a865a8a0309c",
   "metadata": {},
   "outputs": [
    {
     "name": "stdout",
     "output_type": "stream",
     "text": [
      "Requirement already satisfied: pymysql in c:\\users\\utente\\anaconda3\\lib\\site-packages (1.1.1)\n",
      "Note: you may need to restart the kernel to use updated packages.\n"
     ]
    }
   ],
   "source": [
    "pip install pymysql"
   ]
  },
  {
   "cell_type": "code",
   "execution_count": null,
   "id": "b3c7affb-c5c3-461c-b129-ffa206fdf49c",
   "metadata": {},
   "outputs": [],
   "source": []
  }
 ],
 "metadata": {
  "kernelspec": {
   "display_name": "Python 3 (ipykernel)",
   "language": "python",
   "name": "python3"
  },
  "language_info": {
   "codemirror_mode": {
    "name": "ipython",
    "version": 3
   },
   "file_extension": ".py",
   "mimetype": "text/x-python",
   "name": "python",
   "nbconvert_exporter": "python",
   "pygments_lexer": "ipython3",
   "version": "3.12.4"
  }
 },
 "nbformat": 4,
 "nbformat_minor": 5
}
